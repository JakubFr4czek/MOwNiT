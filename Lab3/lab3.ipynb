{
 "cells": [
  {
   "cell_type": "markdown",
   "metadata": {},
   "source": [
    "Interpolacja Hermite'a"
   ]
  },
  {
   "cell_type": "markdown",
   "metadata": {},
   "source": [
    "Zakladam, ze input jest postaci\n",
    "\n",
    "xs = [x1, x2, x3, x4, ...]\n",
    "ys = [ [y1, y1', y1'', ...], ... ], czyli do kazdego x-a przypisana jest lista y-ów, z której każdy kolejny oznacza wartość w kolejnej pochodnej"
   ]
  },
  {
   "cell_type": "code",
   "execution_count": 54,
   "metadata": {},
   "outputs": [],
   "source": [
    "import math"
   ]
  },
  {
   "cell_type": "code",
   "execution_count": 27,
   "metadata": {},
   "outputs": [],
   "source": [
    "def pretty_print(array):\n",
    "    \n",
    "    for row in array:\n",
    "        for el in row:\n",
    "            print(el, end = ' ')\n",
    "        print(\"\")"
   ]
  },
  {
   "cell_type": "code",
   "execution_count": 110,
   "metadata": {},
   "outputs": [],
   "source": [
    "def hermite_interpolation(xs, ys, x):\n",
    "\n",
    "    x_map = []\n",
    "    for i, mi in enumerate(ys):\n",
    "        for _ in range(len(mi)):\n",
    "            x_map.append(xs[i])\n",
    "\n",
    "    #Wyznaczam sumę krotności\n",
    "    m = sum([len(mi) for mi in ys])\n",
    "    \n",
    "    #Tworzę początkową macierz i wypełniam znanymi wartościami\n",
    "    A = [[ None for j in range(m)] for i in range(m)]\n",
    "    \n",
    "    #Wypełniam macierz znanym wartościami f(x)\n",
    "    current_row = 0\n",
    "    for mi in ys:\n",
    "        for j in range(len(mi)):\n",
    "            A[current_row][0] = mi[0]\n",
    "            current_row += 1\n",
    "            \n",
    "    #Wypełniam macierz znanymi wartościami pochodnych\n",
    "    \n",
    "    row = 0\n",
    "    for mi in ys:\n",
    "        for i in range(len(mi)):\n",
    "            for j in range(1, i + 1):\n",
    "                A[row][j] = mi[j] / math.factorial(j)\n",
    "            row += 1\n",
    "            \n",
    "    #Wypełniam macierz wylioczonymi różnicami i wyliczam wspolczynniki\n",
    "    coefficients = [A[0][0]]\n",
    "    for i in range(1, m): #Aktualna pozycja do ktorej zmierzamy\n",
    "        for j in range(1, i + 1):\n",
    "            if A[i][j] == None:\n",
    "                A[i][j] = (A[i][j - 1] - A[i - 1][j - 1]) / (x_map[i] - x_map[i - j])\n",
    "        coefficients.append(A[i][i])\n",
    "        \n",
    "        \n",
    "    pretty_print(A)\n",
    "    \n",
    "    diffs = [x - xi for xi in x_map]\n",
    "    \n",
    "    w = coefficients[0]\n",
    "    \n",
    "    for i in range(1, m):\n",
    "        \n",
    "        temp = coefficients[i]\n",
    "        \n",
    "        for j in range(0, i):\n",
    "            temp *= diffs[j]\n",
    "            \n",
    "        w += temp\n",
    "        \n",
    "    return w  "
   ]
  },
  {
   "cell_type": "code",
   "execution_count": 113,
   "metadata": {},
   "outputs": [
    {
     "name": "stdout",
     "output_type": "stream",
     "text": [
      "1 None None None None \n",
      "1 4.0 None None None \n",
      "3 2.0 -2.0 None None \n",
      "3 1.0 -1.0 1.0 None \n",
      "3 1.0 0.5 1.5 0.5 \n",
      "1.0 None None None None \n",
      "1.0 4.0 None None None \n",
      "3.0 2.0 -2.0 None None \n",
      "3.0 1.0 -1.0 1.0 None \n",
      "3.0 1.0 0.5 1.5 0.5 \n",
      "mojsza:  110730007.0\n",
      "twojsza:  110730007.0\n"
     ]
    }
   ],
   "source": [
    "#Testowe wartosci\n",
    "xs = [1, 2]\n",
    "ys = [[1, 4], [3, 1, 1]]\n",
    "\n",
    "moja = hermite_interpolation(xs, ys, 123)\n",
    "\n",
    "print(\"mojsza: \", moja)\n"
   ]
  }
 ],
 "metadata": {
  "kernelspec": {
   "display_name": "Python 3",
   "language": "python",
   "name": "python3"
  },
  "language_info": {
   "codemirror_mode": {
    "name": "ipython",
    "version": 3
   },
   "file_extension": ".py",
   "mimetype": "text/x-python",
   "name": "python",
   "nbconvert_exporter": "python",
   "pygments_lexer": "ipython3",
   "version": "3.12.0"
  }
 },
 "nbformat": 4,
 "nbformat_minor": 2
}
