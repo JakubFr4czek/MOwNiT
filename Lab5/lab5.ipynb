{
 "cells": [
  {
   "cell_type": "code",
   "execution_count": 1,
   "metadata": {},
   "outputs": [],
   "source": [
    "from enum import Enum"
   ]
  },
  {
   "cell_type": "code",
   "execution_count": 51,
   "metadata": {},
   "outputs": [],
   "source": [
    "def func1(x):\n",
    "    return x**3 + x**2"
   ]
  },
  {
   "cell_type": "code",
   "execution_count": 65,
   "metadata": {},
   "outputs": [],
   "source": [
    "def func1_derivative(x):\n",
    "    return 3 * (x ** 2) + 2 * x"
   ]
  },
  {
   "cell_type": "markdown",
   "metadata": {},
   "source": [
    "Znajdowanie miejsc zerowych funkcji nieliniowych metodą siecznych"
   ]
  },
  {
   "cell_type": "markdown",
   "metadata": {},
   "source": [
    "![title](img_vsc/img01.png)"
   ]
  },
  {
   "cell_type": "code",
   "execution_count": 56,
   "metadata": {},
   "outputs": [],
   "source": [
    "# Stopping conditions for secant_method\n",
    "class ConditionSecant(Enum):\n",
    "    ABS = lambda y_i, eps : abs(y_i) < eps\n",
    "    DISTANCE = lambda x_1, x_2, eps: abs(x_1 - x_2) < eps"
   ]
  },
  {
   "cell_type": "code",
   "execution_count": 60,
   "metadata": {},
   "outputs": [],
   "source": [
    "def secant_method(f, x_0, x_1, condition, eps, max_iterations):\n",
    "    \n",
    "    x_i = x_0\n",
    "    x_j = x_1 # x_j = x_(i + 1)\n",
    "    \n",
    "    for _ in range(max_iterations):\n",
    "        \n",
    "        if f(x_i) == f(x_j): # Division by zero, thus no solution\n",
    "            return None\n",
    "        \n",
    "        x_i, x_j = x_j, x_j - ( (x_j - x_i) / (f(x_j) - f(x_i)) ) * f(x_j)\n",
    "        \n",
    "        if condition == ConditionSecant.ABS and ConditionSecant.ABS(f(x_j), eps):\n",
    "            return x_j\n",
    "        elif condition == ConditionSecant.DISTANCE and ConditionSecant.DISTANCE(x_i, x_j, eps):\n",
    "            return x_j\n",
    "    \n",
    "    print(\"Exceeded max number of iterations\")\n",
    "    return None # Exceeded number of iterations"
   ]
  },
  {
   "cell_type": "code",
   "execution_count": 62,
   "metadata": {},
   "outputs": [
    {
     "name": "stdout",
     "output_type": "stream",
     "text": [
      "-1.0\n"
     ]
    }
   ],
   "source": [
    "print(secant_method(f = func1, x_0 = -0.5, x_1 = 1, condition = ConditionSecant.ABS, eps = 1e-18, max_iterations = 1000))"
   ]
  },
  {
   "cell_type": "markdown",
   "metadata": {},
   "source": [
    "Znajdowanie miejsc zerowych funkcji nieliniowych metodą Newtona-Raphsona"
   ]
  },
  {
   "cell_type": "markdown",
   "metadata": {},
   "source": [
    "![title](img_vsc/img02.png)"
   ]
  },
  {
   "cell_type": "code",
   "execution_count": 63,
   "metadata": {},
   "outputs": [],
   "source": [
    "# Stopping conditions for newton_raphson_method\n",
    "class ConditionNewton(Enum):\n",
    "    ABS = lambda y_i, eps : abs(y_i) < eps\n",
    "    DISTANCE = lambda y_i, yd_i, eps: abs(y_i / yd_i) < eps"
   ]
  },
  {
   "cell_type": "code",
   "execution_count": 68,
   "metadata": {},
   "outputs": [],
   "source": [
    "def newton_raphson_method(f, fd, x_0, condition, eps, max_iterations):\n",
    "    \n",
    "    x_i = x_0\n",
    "    \n",
    "    for _ in range(max_iterations):\n",
    "        \n",
    "        y_i = f(x_i)\n",
    "        yd_i = fd(x_i)\n",
    "        \n",
    "        if yd_i == 0: # Derivative equal to zero\n",
    "            return None\n",
    "        \n",
    "        if condition == ConditionNewton.ABS and ConditionNewton.ABS(f(y_i), eps):\n",
    "            return x_i\n",
    "        elif condition == ConditionNewton.DISTANCE and ConditionNewton.DISTANCE(y_i, yd_i, eps):\n",
    "            return x_i\n",
    "        \n",
    "        x_i  -= y_i / yd_i        \n",
    "        \n",
    "    return None # Max iterations exceeded"
   ]
  },
  {
   "cell_type": "code",
   "execution_count": 83,
   "metadata": {},
   "outputs": [
    {
     "name": "stdout",
     "output_type": "stream",
     "text": [
      "1.1212887150498135e-18\n"
     ]
    }
   ],
   "source": [
    "print(newton_raphson_method(f = func1, fd = func1_derivative, x_0 = 0.01, condition = ConditionNewton.DISTANCE, eps = 1e-18, max_iterations = 1000))"
   ]
  }
 ],
 "metadata": {
  "kernelspec": {
   "display_name": "Python 3",
   "language": "python",
   "name": "python3"
  },
  "language_info": {
   "codemirror_mode": {
    "name": "ipython",
    "version": 3
   },
   "file_extension": ".py",
   "mimetype": "text/x-python",
   "name": "python",
   "nbconvert_exporter": "python",
   "pygments_lexer": "ipython3",
   "version": "3.11.9"
  }
 },
 "nbformat": 4,
 "nbformat_minor": 2
}
