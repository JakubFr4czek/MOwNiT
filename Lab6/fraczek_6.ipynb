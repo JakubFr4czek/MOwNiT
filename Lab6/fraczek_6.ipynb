{
 "cells": [
  {
   "cell_type": "code",
   "execution_count": 2,
   "metadata": {},
   "outputs": [],
   "source": [
    "import numpy as np\n",
    "import pandas as pd\n",
    "import random"
   ]
  },
  {
   "cell_type": "markdown",
   "metadata": {},
   "source": [
    "Wskaźnik uwarunkowania macierzy"
   ]
  },
  {
   "cell_type": "code",
   "execution_count": 69,
   "metadata": {},
   "outputs": [],
   "source": [
    "def norm(A):\n",
    "    n = len(A)\n",
    "    return max(sum(A[i][j] for j in range(n)) for i in range(n))"
   ]
  },
  {
   "cell_type": "code",
   "execution_count": 70,
   "metadata": {},
   "outputs": [],
   "source": [
    "def conditioning_factor(A):\n",
    "    A_inv = np.linalg.inv(A)\n",
    "    return norm(A_inv) * norm(A)"
   ]
  },
  {
   "cell_type": "markdown",
   "metadata": {},
   "source": [
    "Gaussian Elimination"
   ]
  },
  {
   "cell_type": "markdown",
   "metadata": {},
   "source": [
    "![title](img_vsc/img01.png)"
   ]
  },
  {
   "cell_type": "markdown",
   "metadata": {},
   "source": [
    "![title](img_vsc/img02.png)"
   ]
  },
  {
   "cell_type": "code",
   "execution_count": 49,
   "metadata": {},
   "outputs": [],
   "source": [
    "def gaussian_elimination(A, B, data_type):\n",
    "    \n",
    "    n = A.shape[0]\n",
    "    \n",
    "    C = np.hstack((A, B.reshape(n, 1)))\n",
    "\n",
    "    for i in range(n):\n",
    "        for j in range(i + 1, n):\n",
    "            ratio = C[j][i] / C[i][i]\n",
    "            C[j] = C[j] - ratio * C[i]\n",
    "\n",
    "    X = np.zeros(n, dtype=data_type)\n",
    "\n",
    "    X[n - 1] = C[n - 1][n] / C[n - 1][n - 1] # We now have n + 1 columns\n",
    "\n",
    "    for i  in range(n - 2 , -1, -1):\n",
    "        X[i] = (C[i][n] - sum(X[i+1:n]*C[i][i+1:n])) / C[i][i]\n",
    "        \n",
    "    return X"
   ]
  },
  {
   "cell_type": "code",
   "execution_count": 85,
   "metadata": {},
   "outputs": [],
   "source": [
    "class GaussTest():\n",
    "    \n",
    "    def __init__(self, get_matrix_function):\n",
    "\n",
    "        self.get_matrix = get_matrix_function\n",
    "\n",
    "    def random_vector(self, n):\n",
    "        \n",
    "        random.seed(555)\n",
    "        \n",
    "        V = []\n",
    "        \n",
    "        for _ in range(n):\n",
    "            V.append( -1 if random.random() < 0.5 else 1)\n",
    "            \n",
    "        return V\n",
    "        \n",
    "    def solve(self, n, data_type):\n",
    "        \n",
    "        A = self.get_matrix(n)   \n",
    "        X = self.random_vector(n)\n",
    "        \n",
    "        A = np.array(A, dtype=data_type).reshape(n, n)\n",
    "        X = np.array(X, dtype=data_type).reshape(n)\n",
    "        \n",
    "        B = A @ X\n",
    "        \n",
    "        X_approx = gaussian_elimination(A, B, data_type)\n",
    "        \n",
    "        if data_type == np.float32 or data_type == np.float64:\n",
    "            return X, X_approx, conditioning_factor(A)\n",
    "        else:\n",
    "            return X, X_approx, None"
   ]
  },
  {
   "cell_type": "code",
   "execution_count": 86,
   "metadata": {},
   "outputs": [],
   "source": [
    "def zad1_matrix(n):\n",
    "    \n",
    "    A = []\n",
    "        \n",
    "    for i in range(1, n + 1):\n",
    "        for j in range(1, n + 1):\n",
    "                \n",
    "            if i == 1:\n",
    "                A.append(1)\n",
    "            else:\n",
    "                A.append(1 / (i + j - 1)) \n",
    "                    \n",
    "    return A"
   ]
  },
  {
   "cell_type": "code",
   "execution_count": 87,
   "metadata": {},
   "outputs": [
    {
     "name": "stdout",
     "output_type": "stream",
     "text": [
      "[-1. -1.  1.  1. -1.] [-1.232  0.896 -3.867  6.01  -2.809] None\n"
     ]
    }
   ],
   "source": [
    "zad1 = GaussTest(zad1_matrix)\n",
    "\n",
    "X, X_approx, cf = zad1.solve(5, np.float16)\n",
    "print(X, X_approx, cf)"
   ]
  },
  {
   "cell_type": "code",
   "execution_count": 88,
   "metadata": {},
   "outputs": [
    {
     "name": "stdout",
     "output_type": "stream",
     "text": [
      "[-1. -1.  1.  1. -1.] [-0.9998863 -1.0011003  1.0032243  0.9963035 -0.9985412] 28023.636474609375\n"
     ]
    }
   ],
   "source": [
    "zad1 = GaussTest(zad1_matrix)\n",
    "\n",
    "X, X_approx, cf = zad1.solve(5, np.float32)\n",
    "print(X, X_approx, cf)"
   ]
  },
  {
   "cell_type": "code",
   "execution_count": 89,
   "metadata": {},
   "outputs": [
    {
     "name": "stdout",
     "output_type": "stream",
     "text": [
      "[-1. -1.  1.  1. -1.] [-1. -1.  1.  1. -1.] 28000.000000047658\n"
     ]
    }
   ],
   "source": [
    "zad1 = GaussTest(zad1_matrix)\n",
    "\n",
    "X, X_approx, cf = zad1.solve(5, np.float64)\n",
    "print(X, X_approx, cf)"
   ]
  },
  {
   "cell_type": "code",
   "execution_count": 7,
   "metadata": {},
   "outputs": [],
   "source": [
    "def zad2_matrix(n):\n",
    "    \n",
    "    A = [[0 for j in range(1, n + 1)] for i in range(1, n + 1)]\n",
    "    \n",
    "    for i in range(1, n + 1):\n",
    "        for j in range(1, n + 1):\n",
    "            \n",
    "            if j >= i:\n",
    "                A[i - 1][j - 1] = 2 * i / j\n",
    "            else:\n",
    "                A[i - 1][j - 1] = A[j - 1][i - 1]\n",
    "                \n",
    "    return A"
   ]
  },
  {
   "cell_type": "code",
   "execution_count": 90,
   "metadata": {},
   "outputs": [
    {
     "name": "stdout",
     "output_type": "stream",
     "text": [
      "[-1. -1.  1.  1. -1.] [-1.    -1.     1.     1.001 -1.001] None\n"
     ]
    }
   ],
   "source": [
    "zad2 = GaussTest(zad2_matrix)\n",
    "\n",
    "X, X_approx, cf = zad2.solve(5, np.float16)\n",
    "print(X, X_approx, cf)"
   ]
  },
  {
   "cell_type": "code",
   "execution_count": 91,
   "metadata": {},
   "outputs": [
    {
     "name": "stdout",
     "output_type": "stream",
     "text": [
      "[-1. -1.  1.  1. -1.] [-1.0000001 -0.9999997  0.9999998  1.        -1.       ] 2.233333435654641\n"
     ]
    }
   ],
   "source": [
    "zad2 = GaussTest(zad2_matrix)\n",
    "\n",
    "X, X_approx, cf = zad2.solve(5, np.float32)\n",
    "print(X, X_approx, cf)"
   ]
  },
  {
   "cell_type": "code",
   "execution_count": 92,
   "metadata": {},
   "outputs": [
    {
     "name": "stdout",
     "output_type": "stream",
     "text": [
      "[-1. -1.  1.  1. -1.] [-1. -1.  1.  1. -1.] 2.233333333333334\n"
     ]
    }
   ],
   "source": [
    "zad2 = GaussTest(zad2_matrix)\n",
    "\n",
    "X, X_approx, cf = zad2.solve(5, np.float64)\n",
    "print(X, X_approx, cf)"
   ]
  },
  {
   "cell_type": "code",
   "execution_count": 11,
   "metadata": {},
   "outputs": [],
   "source": [
    "def zad3a_matrix(n):\n",
    "\n",
    "    k = 6\n",
    "    m = 3\n",
    "\n",
    "    A = [[0 for j in range(1, n + 1)] for i in range(1, n + 1)]\n",
    "\n",
    "    for i in range(1, n + 1):\n",
    "        for j in range(1, n + 1):\n",
    "\n",
    "            if j == i:\n",
    "                A[i - 1][j - 1] = k\n",
    "            elif j == i + 1:\n",
    "                A[i - 1][j - 1] = 1 / (i + m)\n",
    "            elif i > 1 and j == i - 1:\n",
    "                A[i - 1][j - 1] = k / (i + m + 1)\n",
    "\n",
    "    return A"
   ]
  },
  {
   "cell_type": "code",
   "execution_count": 93,
   "metadata": {},
   "outputs": [
    {
     "name": "stdout",
     "output_type": "stream",
     "text": [
      "[-1. -1.  1.  1. -1.] [-1.     -1.      0.9995  0.9995 -1.    ] None\n"
     ]
    }
   ],
   "source": [
    "zad3a = GaussTest(zad3a_matrix)\n",
    "\n",
    "X, X_approx, cf = zad3a.solve(5, np.float16)\n",
    "print(X, X_approx, cf)"
   ]
  },
  {
   "cell_type": "code",
   "execution_count": 94,
   "metadata": {},
   "outputs": [
    {
     "name": "stdout",
     "output_type": "stream",
     "text": [
      "[-1. -1.  1.  1. -1.] [-1.         -0.99999994  1.          1.         -1.0000001 ] 1.159485363403662\n"
     ]
    }
   ],
   "source": [
    "zad3a = GaussTest(zad3a_matrix)\n",
    "\n",
    "X, X_approx, cf = zad3a.solve(5, np.float32)\n",
    "print(X, X_approx, cf)"
   ]
  },
  {
   "cell_type": "code",
   "execution_count": 95,
   "metadata": {},
   "outputs": [
    {
     "name": "stdout",
     "output_type": "stream",
     "text": [
      "[-1. -1.  1.  1. -1.] [-1. -1.  1.  1. -1.] 1.1594853983864615\n"
     ]
    }
   ],
   "source": [
    "zad3a = GaussTest(zad3a_matrix)\n",
    "\n",
    "X, X_approx, cf = zad3a.solve(5, np.float64)\n",
    "print(X, X_approx, cf)"
   ]
  },
  {
   "cell_type": "code",
   "execution_count": 23,
   "metadata": {},
   "outputs": [],
   "source": [
    "def zad3b_matrix(n):\n",
    "\n",
    "    k = 6\n",
    "    m = 3\n",
    "\n",
    "    A = [[0 for j in range(1, n + 1)] for i in range(1, n + 1)]\n",
    "\n",
    "    for i in range(1, n + 1):\n",
    "        for j in range(1, n + 1):\n",
    "            \n",
    "            if j == i:\n",
    "                A[i - 1][j - 1] = -m * i - k\n",
    "            elif j == i + 1:\n",
    "                A[i - 1][j - 1] = i\n",
    "            elif i > 1 and j == i - 1:\n",
    "                A[i - 1][j - 1] = m / i\n",
    "\n",
    "    return A"
   ]
  },
  {
   "cell_type": "code",
   "execution_count": 96,
   "metadata": {},
   "outputs": [
    {
     "name": "stdout",
     "output_type": "stream",
     "text": [
      "[-1. -1.  1.  1. -1.] [-1. -1.  1.  1. -1.] None\n"
     ]
    }
   ],
   "source": [
    "zad3b = GaussTest(zad3b_matrix)\n",
    "\n",
    "X, X_approx, cf = zad3b.solve(5, np.float16)\n",
    "print(X, X_approx, cf)"
   ]
  },
  {
   "cell_type": "code",
   "execution_count": 97,
   "metadata": {},
   "outputs": [
    {
     "name": "stdout",
     "output_type": "stream",
     "text": [
      "[-1. -1.  1.  1. -1.] [-1. -1.  1.  1. -1.] 0.3970123413610054\n"
     ]
    }
   ],
   "source": [
    "zad3b = GaussTest(zad3b_matrix)\n",
    "\n",
    "X, X_approx, cf= zad3b.solve(5, np.float32)\n",
    "print(X, X_approx, cf)"
   ]
  },
  {
   "cell_type": "code",
   "execution_count": 98,
   "metadata": {},
   "outputs": [
    {
     "name": "stdout",
     "output_type": "stream",
     "text": [
      "[-1. -1.  1.  1. -1.] [-1. -1.  1.  1. -1.] 0.3970123323338485\n"
     ]
    }
   ],
   "source": [
    "zad3b = GaussTest(zad3b_matrix)\n",
    "\n",
    "X, X_approx, cf = zad3b.solve(5, np.float64)\n",
    "print(X, X_approx, cf)"
   ]
  },
  {
   "cell_type": "markdown",
   "metadata": {},
   "source": [
    "Algorytm Thomasa dla macierzy trójdiagonalnej"
   ]
  },
  {
   "cell_type": "code",
   "execution_count": 99,
   "metadata": {},
   "outputs": [],
   "source": [
    "def thomas_algorithm(A, B, C, D):\n",
    "    \n",
    "    N = len(B)\n",
    "    \n",
    "    C[0] /= B[0]\n",
    "    D[0] /= B[0]\n",
    "    \n",
    "    for i in range(1, N - 1):\n",
    "        \n",
    "        common_coefficient = B[i] - A[i - 1] * C[i - 1]\n",
    "        \n",
    "        C[i] /= common_coefficient\n",
    "        D[i] = (D[i] - A[i - 1] * D[i - 1])  / common_coefficient\n",
    "        \n",
    "    # Since loop goes only to n - 1, we need to calculate the last element of D\n",
    "    D[N - 1] = (D[N - 1] - A[N - 2] * D[N - 2]) / (B[N - 1] - A[N - 2] * C[N - 2])\n",
    "    \n",
    "    # Backward substitution\n",
    "    X = [0] * N\n",
    "    X[-1] = D[-1]\n",
    "    \n",
    "    for i in range(N - 2, -1, -1):\n",
    "        X[i] = D[i] - C[i] * X[i + 1]\n",
    "        \n",
    "    return X    "
   ]
  },
  {
   "cell_type": "code",
   "execution_count": 100,
   "metadata": {},
   "outputs": [
    {
     "name": "stdout",
     "output_type": "stream",
     "text": [
      "[0.14877589453860635, 0.7561205273069682, -1.0018832391713752, 2.2514124293785316]\n",
      "[ 0.14877589  0.75612053 -1.00188324  2.25141243]\n"
     ]
    }
   ],
   "source": [
    "A = [3, 1, 3]\n",
    "B = [10, 10, 7, 4]\n",
    "C = [2, 4, 5]\n",
    "D = [3, 4, 5, 6]\n",
    "\n",
    "X = thomas_algorithm(A, B, C, D)\n",
    "print(X)\n",
    "\n",
    "\n",
    "A = np.array([[10,2,0,0],[3,10,4,0],[0,1,7,5],[0,0,3,4]],dtype=float)   \n",
    "a = np.array([3.,1,3]) \n",
    "b = np.array([10.,10.,7.,4.])\n",
    "c = np.array([2.,4.,5.])\n",
    "d = np.array([3,4,5,6.])\n",
    "print(np.linalg.solve(A, d))"
   ]
  }
 ],
 "metadata": {
  "kernelspec": {
   "display_name": "Python 3",
   "language": "python",
   "name": "python3"
  },
  "language_info": {
   "codemirror_mode": {
    "name": "ipython",
    "version": 3
   },
   "file_extension": ".py",
   "mimetype": "text/x-python",
   "name": "python",
   "nbconvert_exporter": "python",
   "pygments_lexer": "ipython3",
   "version": "3.10.12"
  }
 },
 "nbformat": 4,
 "nbformat_minor": 2
}
