{
 "cells": [
  {
   "cell_type": "code",
   "execution_count": 36,
   "metadata": {},
   "outputs": [],
   "source": [
    "import numpy as np\n",
    "import pandas as pd"
   ]
  },
  {
   "cell_type": "markdown",
   "metadata": {},
   "source": [
    "Gaussian Elimination"
   ]
  },
  {
   "cell_type": "markdown",
   "metadata": {},
   "source": [
    "![title](img_vsc/img01.png)"
   ]
  },
  {
   "cell_type": "markdown",
   "metadata": {},
   "source": [
    "![title](img_vsc/img02.png)"
   ]
  },
  {
   "cell_type": "code",
   "execution_count": 51,
   "metadata": {},
   "outputs": [],
   "source": [
    "def gaussian_elimination(A, B):\n",
    "    \n",
    "    n = A.shape[0]\n",
    "    \n",
    "    C = np.hstack((A, B.reshape(n, 1)))\n",
    "\n",
    "    for i in range(n):\n",
    "        for j in range(i + 1, n):\n",
    "            ratio = C[j][i] / C[i][i]\n",
    "            C[j] = C[j] - ratio * C[i]\n",
    "\n",
    "    X = np.zeros(n)\n",
    "\n",
    "    X[n - 1] = C[n - 1][n] / C[n - 1][n - 1] # We now have n + 1 columns\n",
    "\n",
    "    for i  in range(n - 2 , -1, -1):\n",
    "        X[i] = (C[i][n] - sum(X[i+1:n]*C[i][i+1:n])) / C[i][i]\n",
    "        \n",
    "    return X"
   ]
  },
  {
   "cell_type": "code",
   "execution_count": 52,
   "metadata": {},
   "outputs": [
    {
     "name": "stdout",
     "output_type": "stream",
     "text": [
      "[ 1. -1.  1.]\n"
     ]
    }
   ],
   "source": [
    "n = 3\n",
    "A = np.array([[1 / (i + j - 1) if i != 1 else 1 for j in range(1, n + 1)] for i in range(1, n + 1)])\n",
    "X_vec = np.array([1 if i % 2 == 0 else -1 for i in range(n)])\n",
    "B = A @ X_vec\n",
    "X = gaussian_elimination(A, B)\n",
    "print(X)"
   ]
  }
 ],
 "metadata": {
  "kernelspec": {
   "display_name": "Python 3",
   "language": "python",
   "name": "python3"
  },
  "language_info": {
   "codemirror_mode": {
    "name": "ipython",
    "version": 3
   },
   "file_extension": ".py",
   "mimetype": "text/x-python",
   "name": "python",
   "nbconvert_exporter": "python",
   "pygments_lexer": "ipython3",
   "version": "3.11.9"
  }
 },
 "nbformat": 4,
 "nbformat_minor": 2
}
