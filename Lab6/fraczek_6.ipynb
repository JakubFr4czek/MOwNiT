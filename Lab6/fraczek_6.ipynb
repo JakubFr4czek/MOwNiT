{
 "cells": [
  {
   "cell_type": "code",
   "execution_count": 21,
   "metadata": {},
   "outputs": [],
   "source": [
    "import numpy as np\n",
    "import pandas as pd\n",
    "import random"
   ]
  },
  {
   "cell_type": "markdown",
   "metadata": {},
   "source": [
    "Gaussian Elimination"
   ]
  },
  {
   "cell_type": "markdown",
   "metadata": {},
   "source": [
    "![title](img_vsc/img01.png)"
   ]
  },
  {
   "cell_type": "markdown",
   "metadata": {},
   "source": [
    "![title](img_vsc/img02.png)"
   ]
  },
  {
   "cell_type": "code",
   "execution_count": 3,
   "metadata": {},
   "outputs": [],
   "source": [
    "def gaussian_elimination(A, B):\n",
    "    \n",
    "    n = A.shape[0]\n",
    "    \n",
    "    C = np.hstack((A, B.reshape(n, 1)))\n",
    "\n",
    "    for i in range(n):\n",
    "        for j in range(i + 1, n):\n",
    "            ratio = C[j][i] / C[i][i]\n",
    "            C[j] = C[j] - ratio * C[i]\n",
    "\n",
    "    X = np.zeros(n)\n",
    "\n",
    "    X[n - 1] = C[n - 1][n] / C[n - 1][n - 1] # We now have n + 1 columns\n",
    "\n",
    "    for i  in range(n - 2 , -1, -1):\n",
    "        X[i] = (C[i][n] - sum(X[i+1:n]*C[i][i+1:n])) / C[i][i]\n",
    "        \n",
    "    return X"
   ]
  },
  {
   "cell_type": "code",
   "execution_count": 52,
   "metadata": {},
   "outputs": [],
   "source": [
    "class GaussTest():\n",
    "    \n",
    "    def __init__(self, get_matrix_function):\n",
    "        self.get_matrix = get_matrix_function\n",
    "\n",
    "    def random_vector(self, n):\n",
    "        \n",
    "        random.seed(555)\n",
    "        \n",
    "        V = []\n",
    "        \n",
    "        for _ in range(n):\n",
    "            V.append( -1 if random.random() < 0.5 else 1)\n",
    "            \n",
    "        return V\n",
    "        \n",
    "    def solve(self, n):\n",
    "        \n",
    "        A = self.get_matrix(n)   \n",
    "        X = self.random_vector(n)\n",
    "        \n",
    "        A = np.array(A).reshape(n, n)\n",
    "        X = np.array(X).reshape(n)\n",
    "        \n",
    "        B = A @ X\n",
    "        \n",
    "        X_approx = gaussian_elimination(A, B)\n",
    "        \n",
    "        return X, X_approx"
   ]
  },
  {
   "cell_type": "code",
   "execution_count": 53,
   "metadata": {},
   "outputs": [],
   "source": [
    "def zad1_matrix(n):\n",
    "    \n",
    "    A = []\n",
    "        \n",
    "    for i in range(1, n + 1):\n",
    "        for j in range(1, n + 1):\n",
    "                \n",
    "            if i == 1:\n",
    "                A.append(1)\n",
    "            else:\n",
    "                A.append(1 / (i + j - 1)) \n",
    "                    \n",
    "    return A"
   ]
  },
  {
   "cell_type": "code",
   "execution_count": 54,
   "metadata": {},
   "outputs": [
    {
     "name": "stdout",
     "output_type": "stream",
     "text": [
      "[-1 -1  1  1 -1] [-1. -1.  1.  1. -1.]\n"
     ]
    }
   ],
   "source": [
    "zad1 = GaussTest(zad1_matrix)\n",
    "\n",
    "X, X_approx = zad1.solve(5)\n",
    "\n",
    "print(X, X_approx)"
   ]
  },
  {
   "cell_type": "code",
   "execution_count": 92,
   "metadata": {},
   "outputs": [],
   "source": [
    "def zad2_matrix(n):\n",
    "    \n",
    "    A = [[0 for j in range(1, n + 1)] for i in range(1, n + 1)]\n",
    "    \n",
    "    for i in range(1, n + 1):\n",
    "        for j in range(1, n + 1):\n",
    "            \n",
    "            if j >= i:\n",
    "                A[i - 1][j - 1] = 2 * i / j\n",
    "            else:\n",
    "                A[i - 1][j - 1] = A[j - 1][i - 1]\n",
    "                \n",
    "    return A"
   ]
  },
  {
   "cell_type": "code",
   "execution_count": 93,
   "metadata": {},
   "outputs": [
    {
     "name": "stdout",
     "output_type": "stream",
     "text": [
      "[-1 -1  1  1 -1] [-1. -1.  1.  1. -1.]\n"
     ]
    }
   ],
   "source": [
    "zad2 = GaussTest(zad2_matrix)\n",
    "\n",
    "X, X_approx = zad2.solve(5)\n",
    "\n",
    "print(X, X_approx)"
   ]
  }
 ],
 "metadata": {
  "kernelspec": {
   "display_name": "Python 3",
   "language": "python",
   "name": "python3"
  },
  "language_info": {
   "codemirror_mode": {
    "name": "ipython",
    "version": 3
   },
   "file_extension": ".py",
   "mimetype": "text/x-python",
   "name": "python",
   "nbconvert_exporter": "python",
   "pygments_lexer": "ipython3",
   "version": "3.11.9"
  }
 },
 "nbformat": 4,
 "nbformat_minor": 2
}
