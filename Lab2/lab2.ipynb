{
 "cells": [
  {
   "cell_type": "markdown",
   "metadata": {},
   "source": [
    "Używane biblioteki"
   ]
  },
  {
   "cell_type": "code",
   "execution_count": 18,
   "metadata": {},
   "outputs": [],
   "source": [
    "import math\n",
    "import copy"
   ]
  },
  {
   "cell_type": "markdown",
   "metadata": {},
   "source": [
    "Zera wielomianu Czebyszewa - Inaczej węzły Czebyszewa. Są często używane jako węzły w interpolacji wielomianowej,\n",
    "ponieważ wynikowy wielomian interpolacyjny minimalizuje efekt Rungego, czyli duże oscylacje wielomianu interpolacyjnego przy krańcach przedziału.\n",
    "\n",
    "Reference: https://pl.wikipedia.org/wiki/W%C4%99z%C5%82y_Czebyszewa"
   ]
  },
  {
   "cell_type": "code",
   "execution_count": 16,
   "metadata": {},
   "outputs": [],
   "source": [
    "def get_chebyshev_nodes(a, b, n):\n",
    "\n",
    "    nodes = []\n",
    "\n",
    "    for k in range(1, n + 1): #n + 1, because range is exclusive on the right side\n",
    "\n",
    "        nodes.append( 0.5 * (a + b) + 0.5 * (b - a) *  math.cos( ( (2 * k - 1) / (2 * n) ) * math.pi ) )\n",
    "    \n",
    "    return nodes[::-1] #Flipping an array in order to it being consistent with input range"
   ]
  },
  {
   "cell_type": "markdown",
   "metadata": {},
   "source": [
    "Interpolacja Lagrange'a\n",
    "\n",
    "Wielomian interpolacyjny newtona:\n",
    "P(x) = L0(x) * y0 + L1(x) * y0 + ... Ln * yn\n"
   ]
  },
  {
   "cell_type": "code",
   "execution_count": 79,
   "metadata": {},
   "outputs": [],
   "source": [
    "def lagrange_interpolation(xs, ys, x): \n",
    "\n",
    "    if len(xs) != len(ys): return\n",
    "\n",
    "    P = 0 #Value of a polynomial at point x\n",
    "\n",
    "    for i in range(len(xs)):\n",
    "\n",
    "        L = 1 #lagrange's base\n",
    "\n",
    "        for j in range(len(xs)):\n",
    "\n",
    "            if xs[i] != xs[j]: \n",
    "\n",
    "                L *= (x - xs[j]) / (xs[i] - xs[j])\n",
    "\n",
    "        P += (L * ys[i])\n",
    "\n",
    "    return P"
   ]
  },
  {
   "cell_type": "markdown",
   "metadata": {},
   "source": [
    "Iterpolacja Newtona - metoda ilorazów skończonych\n",
    "\n",
    "Wielomian interpolacyjny Newtona:\n",
    "\n",
    "Pn(x) = a0 + a1(x - x0) + a2(x - x0)(x - x1) + ... + an(x - x0)(x - x1)(x - xn)\n",
    "\n",
    "Wielomian interpolacyjny z ilorazami różnicowymi\n",
    "\n",
    "Pn(x) = f[x0] + (x - x0)f[x0, x1] + (x - x0)(x - x1)f[x0, x1, x2] + ... + (x - x0)(x - x1)...(x-xn-1)f[x0, x1, ..., xn]"
   ]
  },
  {
   "cell_type": "code",
   "execution_count": 176,
   "metadata": {},
   "outputs": [],
   "source": [
    "def newton_interpolation(xs, ys, x):\n",
    "\n",
    "    if len(xs) != len(ys): return\n",
    "\n",
    "    coefficients = [ys[0]]\n",
    "\n",
    "    #Dfference quotients array\n",
    "    diffs = copy.deepcopy(ys)\n",
    "    \n",
    "    for i in range(len(xs) -2, -1, -1):\n",
    "\n",
    "        for j in range(0, i + 1):\n",
    "            \n",
    "            diffs[j] = (diffs[j+1] - diffs[j]) / (xs[j + ((len(xs) - i) - 1)] - xs[j])\n",
    "\n",
    "        coefficients.append(diffs[0])\n",
    "\n",
    "    #horner\n",
    "    result = coefficients[-1]\n",
    "\n",
    "    for i in range(len(coefficients) - 2, -1, -1):\n",
    "        result = result * (x - xs[i]) + coefficients[i]\n",
    "\n",
    "    return result"
   ]
  },
  {
   "cell_type": "markdown",
   "metadata": {},
   "source": [
    "Testy"
   ]
  },
  {
   "cell_type": "code",
   "execution_count": 178,
   "metadata": {},
   "outputs": [
    {
     "name": "stdout",
     "output_type": "stream",
     "text": [
      "35.0\n",
      "35.0\n"
     ]
    }
   ],
   "source": [
    "xs = [0, 1, 2, 5]\n",
    "ys = [2, 3, 12, 147]\n",
    "\n",
    "\n",
    "print(lagrange_interpolation(xs, ys, 3))\n",
    "\n",
    "print(newton_interpolation(xs, ys, 3))"
   ]
  },
  {
   "cell_type": "markdown",
   "metadata": {},
   "source": [
    "Równomiernie rozprowadzone punkty"
   ]
  },
  {
   "cell_type": "code",
   "execution_count": null,
   "metadata": {},
   "outputs": [],
   "source": [
    "def evenly_distributed(f, ):\n",
    "\n",
    "    "
   ]
  }
 ],
 "metadata": {
  "kernelspec": {
   "display_name": "Python 3",
   "language": "python",
   "name": "python3"
  },
  "language_info": {
   "codemirror_mode": {
    "name": "ipython",
    "version": 3
   },
   "file_extension": ".py",
   "mimetype": "text/x-python",
   "name": "python",
   "nbconvert_exporter": "python",
   "pygments_lexer": "ipython3",
   "version": "3.11.8"
  }
 },
 "nbformat": 4,
 "nbformat_minor": 2
}
