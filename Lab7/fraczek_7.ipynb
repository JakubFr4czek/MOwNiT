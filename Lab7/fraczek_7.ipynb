{
 "cells": [
  {
   "cell_type": "code",
   "execution_count": 26,
   "metadata": {},
   "outputs": [],
   "source": [
    "import numpy as np"
   ]
  },
  {
   "cell_type": "markdown",
   "metadata": {},
   "source": [
    "Algorytm Thomasa"
   ]
  },
  {
   "cell_type": "markdown",
   "metadata": {},
   "source": [
    "![title](img_vsc/img01.jpg)"
   ]
  },
  {
   "cell_type": "code",
   "execution_count": 51,
   "metadata": {},
   "outputs": [],
   "source": [
    "def thomas_algorithm(A, B, C, D):\n",
    "    \n",
    "    N = len(B)\n",
    "    \n",
    "    C[0] /= B[0]\n",
    "    D[0] /= B[0]\n",
    "    \n",
    "    for i in range(1, N - 1):\n",
    "        \n",
    "        common_coefficient = B[i] - A[i - 1] * C[i - 1]\n",
    "        \n",
    "        C[i] /= common_coefficient\n",
    "        D[i] = (D[i] - A[i - 1] * D[i - 1])  / common_coefficient\n",
    "        \n",
    "    # Since loop goes only to n - 1, we need to calculate the last element of D\n",
    "    D[N - 1] = (D[N - 1] - A[N - 2] * D[N - 2]) / (B[N - 1] - A[N - 2] * C[N - 2])\n",
    "    \n",
    "    # Backward substitution\n",
    "    X = [0] * N\n",
    "    X[-1] = D[-1]\n",
    "    \n",
    "    for i in range(N - 2, -1, -1):\n",
    "        X[i] = D[i] - C[i] * X[i + 1]\n",
    "        \n",
    "    return X    "
   ]
  },
  {
   "cell_type": "code",
   "execution_count": 52,
   "metadata": {},
   "outputs": [
    {
     "name": "stdout",
     "output_type": "stream",
     "text": [
      "[0.14877589453860635, 0.7561205273069682, -1.0018832391713752, 2.2514124293785316]\n",
      "[ 0.14877589  0.75612053 -1.00188324  2.25141243]\n"
     ]
    }
   ],
   "source": [
    "A = [3, 1, 3]\n",
    "B = [10, 10, 7, 4]\n",
    "C = [2, 4, 5]\n",
    "D = [3, 4, 5, 6]\n",
    "\n",
    "X = thomas_algorithm(A, B, C, D)\n",
    "print(X)\n",
    "\n",
    "\n",
    "A = np.array([[10,2,0,0],[3,10,4,0],[0,1,7,5],[0,0,3,4]],dtype=float)   \n",
    "a = np.array([3.,1,3]) \n",
    "b = np.array([10.,10.,7.,4.])\n",
    "c = np.array([2.,4.,5.])\n",
    "d = np.array([3,4,5,6.])\n",
    "print(np.linalg.solve(A, d))"
   ]
  }
 ],
 "metadata": {
  "kernelspec": {
   "display_name": "Python 3",
   "language": "python",
   "name": "python3"
  },
  "language_info": {
   "codemirror_mode": {
    "name": "ipython",
    "version": 3
   },
   "file_extension": ".py",
   "mimetype": "text/x-python",
   "name": "python",
   "nbconvert_exporter": "python",
   "pygments_lexer": "ipython3",
   "version": "3.11.9"
  }
 },
 "nbformat": 4,
 "nbformat_minor": 2
}
