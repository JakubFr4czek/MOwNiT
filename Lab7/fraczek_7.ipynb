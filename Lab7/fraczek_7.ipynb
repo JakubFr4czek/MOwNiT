{
 "cells": [
  {
   "cell_type": "markdown",
   "metadata": {},
   "source": [
    "Rozwiązywanie układów równań liniowych metodą iteracyjną Jacobiego"
   ]
  },
  {
   "cell_type": "markdown",
   "metadata": {},
   "source": [
    "Wykorzystane moduły"
   ]
  },
  {
   "cell_type": "code",
   "execution_count": 5,
   "metadata": {},
   "outputs": [],
   "source": [
    "import numpy as np\n",
    "from enum import Enum"
   ]
  },
  {
   "cell_type": "markdown",
   "metadata": {},
   "source": [
    "![title](img_vsc/img01.png)"
   ]
  },
  {
   "cell_type": "code",
   "execution_count": 6,
   "metadata": {},
   "outputs": [],
   "source": [
    "# Kryteria przyrostowe\n",
    "class Condition(Enum):\n",
    "    FIRST = lambda X_approx,  X, eps: np.linalg.norm(X_approx - X) < eps \n",
    "    SECOND = lambda A, X, b, eps: np.linalg.norm(A @ X - b) < eps"
   ]
  },
  {
   "cell_type": "code",
   "execution_count": 16,
   "metadata": {},
   "outputs": [],
   "source": [
    "def jacobi(A, b, condition, eps, max_iterations):\n",
    "    \n",
    "    D = np.diag(A) # Przekątna macierzy A\n",
    "    C = A - np.diagflat(D) # A bez przekątnej\n",
    "    X = np.zeros_like(b) # Tablica zerowa o takim samym kształcie jak b\n",
    "    \n",
    "    for it in range(max_iterations):\n",
    "        X_approx = (b - (C @ X)) / D\n",
    "        \n",
    "        if condition == Condition.FIRST and Condition.FIRST(X_approx, X, eps):\n",
    "            break\n",
    "        elif condition == Condition.SECOND and Condition.SECOND(A, X, b, eps):\n",
    "            break\n",
    "        X = X_approx\n",
    "        \n",
    "    return X, it"
   ]
  },
  {
   "cell_type": "code",
   "execution_count": 17,
   "metadata": {},
   "outputs": [
    {
     "name": "stdout",
     "output_type": "stream",
     "text": [
      "[ 1 -1  1 -1  1] [ 1. -1.  1. -1.  1.] 111\n"
     ]
    }
   ],
   "source": [
    "k = 8\n",
    "m = 2\n",
    "\n",
    "n = 5\n",
    "\n",
    "A = np.array([[k if i == j else m / (n - i - j + 0.5) for j in range(n)] for i in range(n)])\n",
    "X = np.array([1 if i % 2 == 0 else -1 for i in range(n)])\n",
    "b = A @ X\n",
    "X_approx, it = jacobi(A, b, Condition.FIRST, 1e-10, 1000)\n",
    "\n",
    "print(X, X_approx, it)"
   ]
  }
 ],
 "metadata": {
  "kernelspec": {
   "display_name": "Python 3",
   "language": "python",
   "name": "python3"
  },
  "language_info": {
   "codemirror_mode": {
    "name": "ipython",
    "version": 3
   },
   "file_extension": ".py",
   "mimetype": "text/x-python",
   "name": "python",
   "nbconvert_exporter": "python",
   "pygments_lexer": "ipython3",
   "version": "3.11.9"
  }
 },
 "nbformat": 4,
 "nbformat_minor": 2
}
